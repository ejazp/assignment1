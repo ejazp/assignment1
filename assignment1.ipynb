{
 "cells": [
  {
   "cell_type": "code",
   "execution_count": 2,
   "id": "835a585d-389c-44e5-a666-6f9c971e60e7",
   "metadata": {},
   "outputs": [
    {
     "name": "stdout",
     "output_type": "stream",
     "text": [
      "apple\n",
      "banana\n",
      "cherry\n"
     ]
    }
   ],
   "source": [
    "##Code for foor loop\n",
    "fruits = [\"apple\", \"banana\", \"cherry\"]\n",
    "for x in fruits:\n",
    "  print(x)"
   ]
  },
  {
   "cell_type": "code",
   "execution_count": 14,
   "id": "7a14ead3-d96d-462e-9e10-2a61064b4b46",
   "metadata": {},
   "outputs": [
    {
     "name": "stdout",
     "output_type": "stream",
     "text": [
      "1\n",
      "2\n",
      "3\n",
      "4\n",
      "5\n"
     ]
    }
   ],
   "source": [
    "##Code for while loop\n",
    "i = 1\n",
    "while i < 6:\n",
    "  print(i)\n",
    "  i += 1\n",
    "   \n",
    "\n",
    "\n",
    "\n",
    "\n",
    "\n"
   ]
  },
  {
   "cell_type": "code",
   "execution_count": 17,
   "id": "3ab7bf60-8485-47e0-8e0d-7b07c231e10f",
   "metadata": {},
   "outputs": [
    {
     "name": "stdin",
     "output_type": "stream",
     "text": [
      "enter the unit of electricity used: 310\n"
     ]
    },
    {
     "name": "stdout",
     "output_type": "stream",
     "text": [
      "310\n",
      "2250\n"
     ]
    }
   ],
   "source": [
    "##python program to compute the electricity bill for a household.\n",
    "\n",
    "\n",
    "x = int(input(\"enter the unit of electricity used:\"))\n",
    "print(x)\n",
    "\n",
    "if x <101:\n",
    "    Bill = x*4.5;\n",
    "elif x <201 :\n",
    "    Bill = 450+(x-100)*6\n",
    "elif x <301 :\n",
    "    Bill = 450+600+(x-200)*10\n",
    "else :\n",
    "    Bill = 450+600+1000+(x-300)*20\n",
    "    \n",
    "print(Bill)\n",
    "\n"
   ]
  },
  {
   "cell_type": "code",
   "execution_count": 18,
   "id": "935fc9ca-b420-4c42-a123-5f003603a38d",
   "metadata": {},
   "outputs": [
    {
     "name": "stdout",
     "output_type": "stream",
     "text": [
      "45\n"
     ]
    }
   ],
   "source": [
    "##Code for sum of 10 number using for loop\n",
    "sum = 0\n",
    "for i in range(10):\n",
    "    sum = sum+i\n",
    "\n",
    "print(sum)\n"
   ]
  },
  {
   "cell_type": "code",
   "execution_count": 19,
   "id": "71ea2bf8-de62-41ed-bd60-31292a55aa86",
   "metadata": {},
   "outputs": [
    {
     "name": "stdout",
     "output_type": "stream",
     "text": [
      "3628800\n"
     ]
    }
   ],
   "source": [
    "#Code for product of 10 number using for loop\n",
    "product = 1\n",
    "for i in range(1,11):\n",
    "    product = product*i\n",
    "\n",
    "print(product)"
   ]
  },
  {
   "cell_type": "code",
   "execution_count": 21,
   "id": "f592395a-949f-4be0-93c4-a5ae783c8064",
   "metadata": {},
   "outputs": [
    {
     "name": "stdout",
     "output_type": "stream",
     "text": [
      "55\n"
     ]
    }
   ],
   "source": [
    "##Code for sum of 10 number using for loop\n",
    "sum = 0\n",
    "i = 0\n",
    "while i < 11:\n",
    "    sum = sum+i\n",
    "    i += 1\n",
    "\n",
    "print(sum)\n"
   ]
  },
  {
   "cell_type": "code",
   "execution_count": 22,
   "id": "8a055e68-b940-46bc-8aa9-ff6695a89814",
   "metadata": {},
   "outputs": [
    {
     "name": "stdout",
     "output_type": "stream",
     "text": [
      "3628800\n"
     ]
    }
   ],
   "source": [
    "##Code for product of 10 number using for loop\n",
    "product = 1\n",
    "i = 1\n",
    "while i < 11:\n",
    "    product = product*i\n",
    "    i += 1\n",
    "    \n",
    "print(product)"
   ]
  },
  {
   "cell_type": "code",
   "execution_count": 24,
   "id": "bcc72191-36cd-47a7-bcc2-84c32fae9a26",
   "metadata": {},
   "outputs": [
    {
     "name": "stdout",
     "output_type": "stream",
     "text": [
      "[0, 8, 64, 125, 216, 512, 1000, 1728, 2744, 3375, 4096, 5832, 8000, 10648, 13824, 15625, 17576, 21952, 27000, 32768, 39304, 42875, 46656, 54872, 64000, 74088, 85184, 91125, 97336, 110592, 125000, 140608, 157464, 166375, 175616, 195112, 216000, 238328, 262144, 274625, 287496, 314432, 343000, 373248, 405224, 421875, 438976, 474552, 512000, 551368, 592704, 614125, 636056, 681472, 729000, 778688, 830584, 857375, 884736, 941192, 1000000]\n"
     ]
    }
   ],
   "source": [
    "'''Q4. Create a list of numbers from 1 to 100. Use for loop and while loop to calculate the cube of each\n",
    "number and if the cube of that number is divisible by 4 or 5 then append that number in a list and print\n",
    "that list.'''\n",
    "\n",
    "list = []\n",
    "for i in range(101):\n",
    "    x = i*i*i\n",
    "    if (x%4 == 0 or x%5 == 0):\n",
    "        list.append(x)\n",
    "\n",
    "print(list)\n",
    "\n"
   ]
  },
  {
   "cell_type": "code",
   "execution_count": 26,
   "id": "30d6b91c-4edc-4dac-ae76-096424b0d0b7",
   "metadata": {},
   "outputs": [
    {
     "ename": "NameError",
     "evalue": "name 'a' is not defined",
     "output_type": "error",
     "traceback": [
      "\u001b[0;31m---------------------------------------------------------------------------\u001b[0m",
      "\u001b[0;31mNameError\u001b[0m                                 Traceback (most recent call last)",
      "Cell \u001b[0;32mIn[26], line 7\u001b[0m\n\u001b[1;32m      5\u001b[0m list1 \u001b[38;5;241m=\u001b[39m \u001b[38;5;28mstr\u001b[39m(list1)\n\u001b[1;32m      6\u001b[0m \u001b[38;5;28;01mfor\u001b[39;00m i \u001b[38;5;129;01min\u001b[39;00m list1:\n\u001b[0;32m----> 7\u001b[0m     \u001b[38;5;28;01mif\u001b[39;00m (i\u001b[38;5;241m==\u001b[39m\u001b[43ma\u001b[49m \u001b[38;5;129;01mor\u001b[39;00m i\u001b[38;5;241m==\u001b[39me \u001b[38;5;129;01mor\u001b[39;00m i\u001b[38;5;241m==\u001b[39mo \u001b[38;5;129;01mor\u001b[39;00m i\u001b[38;5;241m==\u001b[39mu):\n\u001b[1;32m      8\u001b[0m         count \u001b[38;5;241m=\u001b[39m count\u001b[38;5;241m+\u001b[39m\u001b[38;5;241m1\u001b[39m\n\u001b[1;32m     10\u001b[0m \u001b[38;5;28mprint\u001b[39m(count)\n",
      "\u001b[0;31mNameError\u001b[0m: name 'a' is not defined"
     ]
    }
   ],
   "source": [
    "''' Write a program to filter count vowels in the below-given string.\n",
    "string = \"I want to become a data scientist\" '''\n",
    "count = 0\n",
    "list1 = [\"I want to become a data scientist\"]\n",
    "list1 = str(list1)\n",
    "for i in list1:\n",
    "    if (i==a or i==e or i==o or i==u):\n",
    "        count = count+1\n",
    "    \n",
    "print(count)\n",
    "\n",
    "\n",
    "\n",
    "\n"
   ]
  },
  {
   "cell_type": "code",
   "execution_count": null,
   "id": "97c3c296-e8c0-4d68-b304-8992af62d107",
   "metadata": {},
   "outputs": [],
   "source": []
  }
 ],
 "metadata": {
  "kernelspec": {
   "display_name": "Python 3 (ipykernel)",
   "language": "python",
   "name": "python3"
  },
  "language_info": {
   "codemirror_mode": {
    "name": "ipython",
    "version": 3
   },
   "file_extension": ".py",
   "mimetype": "text/x-python",
   "name": "python",
   "nbconvert_exporter": "python",
   "pygments_lexer": "ipython3",
   "version": "3.10.8"
  }
 },
 "nbformat": 4,
 "nbformat_minor": 5
}
